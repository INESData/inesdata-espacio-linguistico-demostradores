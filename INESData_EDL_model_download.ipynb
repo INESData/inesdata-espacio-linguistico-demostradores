{
 "cells": [
  {
   "cell_type": "markdown",
   "id": "8eacce99-cc33-4fe8-b29f-ef9c35c66f48",
   "metadata": {},
   "source": [
    "# Downloading assets from the language data space"
   ]
  },
  {
   "cell_type": "markdown",
   "id": "7fcb863b-0756-42e3-a956-d050170069d8",
   "metadata": {},
   "source": [
    "In this notebook we will show how to download assets from the language data space. In this case, the assests are already available in the data space, and we will negotiate a contract, transfer, and download a asset."
   ]
  },
  {
   "cell_type": "markdown",
   "id": "0ac5eb1f-afae-4d33-81fd-a374765b4586",
   "metadata": {},
   "source": [
    "First we need to install the Keycloak Python client library."
   ]
  },
  {
   "cell_type": "code",
   "execution_count": 1,
   "id": "4be5b63a-cb8c-4122-abef-b50917802244",
   "metadata": {},
   "outputs": [
    {
     "name": "stdout",
     "output_type": "stream",
     "text": [
      "Requirement already satisfied: python-keycloak in c:\\users\\cberrio\\miniconda3\\lib\\site-packages (5.6.0)\n",
      "Requirement already satisfied: requests-toolbelt>=0.6.0 in c:\\users\\cberrio\\miniconda3\\lib\\site-packages (from python-keycloak) (0.9.1)\n",
      "Requirement already satisfied: jwcrypto>=1.5.4 in c:\\users\\cberrio\\miniconda3\\lib\\site-packages (from python-keycloak) (1.5.6)\n",
      "Requirement already satisfied: deprecation>=2.1.0 in c:\\users\\cberrio\\miniconda3\\lib\\site-packages (from python-keycloak) (2.1.0)\n",
      "Requirement already satisfied: httpx>=0.23.2 in c:\\users\\cberrio\\miniconda3\\lib\\site-packages (from python-keycloak) (0.28.1)\n",
      "Requirement already satisfied: async-property>=0.2.2 in c:\\users\\cberrio\\miniconda3\\lib\\site-packages (from python-keycloak) (0.2.2)\n",
      "Requirement already satisfied: requests>=2.20.0 in c:\\users\\cberrio\\miniconda3\\lib\\site-packages (from python-keycloak) (2.32.4)\n",
      "Requirement already satisfied: aiofiles>=24.1.0 in c:\\users\\cberrio\\miniconda3\\lib\\site-packages (from python-keycloak) (24.1.0)\n",
      "Requirement already satisfied: packaging in c:\\users\\cberrio\\miniconda3\\lib\\site-packages (from deprecation>=2.1.0->python-keycloak) (25.0)\n",
      "Requirement already satisfied: anyio in c:\\users\\cberrio\\miniconda3\\lib\\site-packages (from httpx>=0.23.2->python-keycloak) (4.9.0)\n",
      "Requirement already satisfied: certifi in c:\\users\\cberrio\\miniconda3\\lib\\site-packages (from httpx>=0.23.2->python-keycloak) (2022.5.18.1)\n",
      "Requirement already satisfied: idna in c:\\users\\cberrio\\miniconda3\\lib\\site-packages (from httpx>=0.23.2->python-keycloak) (2.10)\n",
      "Requirement already satisfied: httpcore==1.* in c:\\users\\cberrio\\miniconda3\\lib\\site-packages (from httpx>=0.23.2->python-keycloak) (1.0.9)\n",
      "Requirement already satisfied: h11>=0.16 in c:\\users\\cberrio\\miniconda3\\lib\\site-packages (from httpcore==1.*->httpx>=0.23.2->python-keycloak) (0.16.0)\n",
      "Requirement already satisfied: cryptography>=3.4 in c:\\users\\cberrio\\miniconda3\\lib\\site-packages (from jwcrypto>=1.5.4->python-keycloak) (37.0.1)\n",
      "Requirement already satisfied: typing-extensions>=4.5.0 in c:\\users\\cberrio\\miniconda3\\lib\\site-packages (from jwcrypto>=1.5.4->python-keycloak) (4.12.2)\n",
      "Requirement already satisfied: cffi>=1.12 in c:\\users\\cberrio\\miniconda3\\lib\\site-packages (from cryptography>=3.4->jwcrypto>=1.5.4->python-keycloak) (1.15.0)\n",
      "Requirement already satisfied: pycparser in c:\\users\\cberrio\\miniconda3\\lib\\site-packages (from cffi>=1.12->cryptography>=3.4->jwcrypto>=1.5.4->python-keycloak) (2.21)\n",
      "Requirement already satisfied: urllib3<3,>=1.21.1 in c:\\users\\cberrio\\miniconda3\\lib\\site-packages (from requests>=2.20.0->python-keycloak) (1.26.15)\n",
      "Requirement already satisfied: charset_normalizer<4,>=2 in c:\\users\\cberrio\\miniconda3\\lib\\site-packages (from requests>=2.20.0->python-keycloak) (2.0.4)\n",
      "Requirement already satisfied: exceptiongroup>=1.0.2 in c:\\users\\cberrio\\miniconda3\\lib\\site-packages (from anyio->httpx>=0.23.2->python-keycloak) (1.2.2)\n",
      "Requirement already satisfied: sniffio>=1.1 in c:\\users\\cberrio\\miniconda3\\lib\\site-packages (from anyio->httpx>=0.23.2->python-keycloak) (1.3.1)\n"
     ]
    }
   ],
   "source": [
    "!pip install python-keycloak"
   ]
  },
  {
   "cell_type": "markdown",
   "id": "4f0cf687-b293-4176-b900-f78fae837273",
   "metadata": {},
   "source": [
    "Here we input our credentials, including the One-Time Password (OTP)."
   ]
  },
  {
   "cell_type": "code",
   "execution_count": 2,
   "id": "dd0969c5-136f-47f7-b2fc-3f60021cee67",
   "metadata": {},
   "outputs": [],
   "source": [
    "USER = \"\"\n",
    "PASSWORD = \"\"\n",
    "OTP = \"\""
   ]
  },
  {
   "cell_type": "markdown",
   "id": "6e36c3b5-ea1b-4964-a6b3-4d0ff0961968",
   "metadata": {},
   "source": [
    "We log into the language data space using Keycloak, and this will return an access token."
   ]
  },
  {
   "cell_type": "code",
   "execution_count": 3,
   "id": "26e7f9dd-fb21-48e6-bafb-8f9d95437f4a",
   "metadata": {},
   "outputs": [],
   "source": [
    "from keycloak import KeycloakOpenID\n",
    "\n",
    "keycloak_openid = KeycloakOpenID(\n",
    "    server_url=\"https://auth.ds.inesdata-project.eu/\",\n",
    "    client_id=\"dataspace-users\",\n",
    "    realm_name=\"language\"\n",
    ")\n",
    "\n",
    "token = keycloak_openid.token(USER, PASSWORD, totp=OTP)"
   ]
  },
  {
   "cell_type": "markdown",
   "id": "0e613b08-c25d-43ca-b4b0-a5bb2e02097c",
   "metadata": {},
   "source": [
    "Acess token has to be constantly renewed, so we will use this function to check if it has expired, and in if so, refresh it."
   ]
  },
  {
   "cell_type": "code",
   "execution_count": 4,
   "id": "1418cae9-6440-47bb-bec8-c16605f025a5",
   "metadata": {},
   "outputs": [],
   "source": [
    "from time import time\n",
    "\n",
    "expiry = time() + token['expires_in']\n",
    "\n",
    "def get_valid_token():\n",
    "    global token, expiry\n",
    "    if time() >= expiry:\n",
    "        token = keycloak_openid.refresh_token(token['refresh_token'])\n",
    "        expiry = time() + token['expires_in']\n",
    "    return token['access_token']"
   ]
  },
  {
   "cell_type": "markdown",
   "id": "c51ab721-2888-4ba8-aad1-ee701f2ef721",
   "metadata": {},
   "source": [
    "In our case, we have used credentials for the \"conn-consumer\" connector, we will make the first call to query the federated catalog and check all the available assets in the data space."
   ]
  },
  {
   "cell_type": "code",
   "execution_count": 5,
   "id": "0bf65673-a4f7-4825-855e-859237fa2f8c",
   "metadata": {
    "scrolled": true
   },
   "outputs": [
    {
     "name": "stdout",
     "output_type": "stream",
     "text": [
      "[\n",
      "  {\n",
      "    \"@id\": \"73aff7d5-9c50-4251-83d6-897732aba8ca\",\n",
      "    \"@type\": \"dcat:Catalog\",\n",
      "    \"dcat:dataset\": [],\n",
      "    \"dcat:catalog\": [],\n",
      "    \"dcat:distribution\": [],\n",
      "    \"dcat:service\": {\n",
      "      \"@id\": \"8e3c4b2b-b5d1-43f5-8917-6d558601487f\",\n",
      "      \"@type\": \"dcat:DataService\",\n",
      "      \"dcat:endpointDescription\": \"dspace:connector\",\n",
      "      \"dcat:endpointUrl\": \"https://conn-language-iic-language.ds.inesdata-project.eu/protocol\",\n",
      "      \"dcat:endpointURL\": \"https://conn-language-iic-language.ds.inesdata-project.eu/protocol\"\n",
      "    },\n",
      "    \"dspace:participantId\": \"conn-language-iic\",\n",
      "    \"originator\": \"https://conn-language-iic-language.ds.inesdata-project.eu/protocol\",\n",
      "    \"@context\": {\n",
      "      \"@vocab\": \"https://w3id.org/edc/v0.0.1/ns/\",\n",
      "      \"edc\": \"https://w3id.org/edc/v0.0.1/ns/\",\n",
      "      \"odrl\": \"http://www.w3.org/ns/odrl/2/\",\n",
      "      \"dcat\": \"http://www.w3.org/ns/dcat#\",\n",
      "      \"dct\": \"http://purl.org/dc/terms/\",\n",
      "      \"dspace\": \"https://w3id.org/dspace/v0.8/\"\n",
      "    }\n",
      "  },\n",
      "  {\n",
      "    \"@id\": \"0d3976df-fba6-4dbb-9586-63c4d9972ffc\",\n",
      "    \"@type\": \"dcat:Catalog\",\n",
      "    \"dcat:dataset\": [\n",
      "      {\n",
      "        \"@id\": \"llama-2-7b-insurance-5-sft\",\n",
      "        \"@type\": \"dcat:Dataset\",\n",
      "        \"odrl:hasPolicy\": {\n",
      "          \"@id\": \"TExNc19jb250cmFjdA==:bGxhbWEtMi03Yi1pbnN1cmFuY2UtNS1zZnQ=:YjJjMDlmYzYtY2RiNC00ZTg0LWFlYzctMDlhZjQ5YTFmMjhj\",\n",
      "          \"@type\": \"odrl:Offer\",\n",
      "          \"odrl:permission\": {\n",
      "            \"odrl:action\": {\n",
      "              \"@id\": \"USE\"\n",
      "            },\n",
      "            \"odrl:constraint\": {\n",
      "              \"odrl:leftOperand\": {\n",
      "                \"@id\": \"ALWAYS_TRUE\"\n",
      "              },\n",
      "              \"odrl:operator\": {\n",
      "                \"@id\": \"odrl:eq\"\n",
      "              },\n",
      "              \"odrl:rightOperand\": \"true\"\n",
      "            }\n",
      "          },\n",
      "          \"odrl:prohibition\": [],\n",
      "          \"odrl:obligation\": []\n",
      "        },\n",
      "        \"dcat:distribution\": [\n",
      "          {\n",
      "            \"@type\": \"dcat:Distribution\",\n",
      "            \"dct:format\": {\n",
      "              \"@id\": \"HttpData-PULL\"\n",
      "            },\n",
      "            \"dcat:accessService\": {\n",
      "              \"@id\": \"5484651a-4417-48b9-9bd3-83c86f1b9952\",\n",
      "              \"@type\": \"dcat:DataService\",\n",
      "              \"dcat:endpointDescription\": \"dspace:connector\",\n",
      "              \"dcat:endpointUrl\": \"https://conn-expert-language.ds.inesdata-project.eu/protocol\",\n",
      "              \"dcat:endpointURL\": \"https://conn-expert-language.ds.inesdata-project.eu/protocol\"\n",
      "            }\n",
      "          },\n",
      "          {\n",
      "            \"@type\": \"dcat:Distribution\",\n",
      "            \"dct:format\": {\n",
      "              \"@id\": \"HttpData-PUSH\"\n",
      "            },\n",
      "            \"dcat:accessService\": {\n",
      "              \"@id\": \"5484651a-4417-48b9-9bd3-83c86f1b9952\",\n",
      "              \"@type\": \"dcat:DataService\",\n",
      "              \"dcat:endpointDescription\": \"dspace:connector\",\n",
      "              \"dcat:endpointUrl\": \"https://conn-expert-language.ds.inesdata-project.eu/protocol\",\n",
      "              \"dcat:endpointURL\": \"https://conn-expert-language.ds.inesdata-project.eu/protocol\"\n",
      "            }\n",
      "          },\n",
      "          {\n",
      "            \"@type\": \"dcat:Distribution\",\n",
      "            \"dct:format\": {\n",
      "              \"@id\": \"AmazonS3-PUSH\"\n",
      "            },\n",
      "            \"dcat:accessService\": {\n",
      "              \"@id\": \"5484651a-4417-48b9-9bd3-83c86f1b9952\",\n",
      "              \"@type\": \"dcat:DataService\",\n",
      "              \"dcat:endpointDescription\": \"dspace:connector\",\n",
      "              \"dcat:endpointUrl\": \"https://conn-expert-language.ds.inesdata-project.eu/protocol\",\n",
      "              \"dcat:endpointURL\": \"https://conn-expert-language.ds.inesdata-project.eu/protocol\"\n",
      "            }\n",
      "          }\n",
      "        ],\n",
      "        \"assetType\": \"machineLearning\",\n",
      "        \"dct:format\": \"\",\n",
      "        \"version\": \"1.0\",\n",
      "        \"dcat:keyword\": \"LLM\",\n",
      "        \"dcat:byteSize\": \"\",\n",
      "        \"name\": \"llama-2-7b-insurance-5-sft\",\n",
      "        \"participantId\": \"conn-expert\",\n",
      "        \"assetData\": {},\n",
      "        \"dct:description\": \"<p>LoRA weights for Llama 2 7B trained with Supervised Fine-Tuning (SFT), with 5 samples per prompt.</p>\",\n",
      "        \"id\": \"llama-2-7b-insurance-5-sft\",\n",
      "        \"contenttype\": \"\",\n",
      "        \"shortDescription\": \"LoRA weights for Llama 2 7B trained with Supervised Fine-Tuning (SFT), with 5 samples per prompt.\"\n",
      "      } ..."
     ]
    }
   ],
   "source": [
    "import requests\n",
    "import json\n",
    "\n",
    "url = \"https://conn-consumer-language.ds.inesdata-project.eu/federatedcatalog/v1alpha/catalog/query\"\n",
    "\n",
    "payload = json.dumps({\n",
    "  \"@context\": {\n",
    "    \"@vocab\": \"https://w3id.org/edc/v0.0.1/ns/\"\n",
    "  },\n",
    "  \"operandLeft\": \"\",\n",
    "  \"operandRight\": \"\",\n",
    "  \"operator\": \"\",\n",
    "  \"Criterion\": \"\"\n",
    "})\n",
    "\n",
    "headers = {\n",
    "  'Authorization': f'Bearer {get_valid_token()}',\n",
    "  'Content-Type': 'application/json'\n",
    "}\n",
    "\n",
    "response = requests.request(\"POST\", url, headers=headers, data=payload)\n",
    "\n",
    "print(json.dumps(response.json(),indent=2))"
   ]
  },
  {
   "cell_type": "markdown",
   "id": "4e4b163e-b9cd-4981-9bcc-8d53fe04f3c9",
   "metadata": {},
   "source": [
    "We can see that the are different connectors offering different assets. For this notebook we will download an asset of type \"machineLearning\", specifically we will download the asset with id \"llama-2-7b-insurance-5-sft\"."
   ]
  },
  {
   "cell_type": "code",
   "execution_count": 6,
   "id": "2c91f212-1e45-4b23-824a-3d175f339875",
   "metadata": {},
   "outputs": [
    {
     "name": "stdout",
     "output_type": "stream",
     "text": [
      "[\n",
      "  {\n",
      "    \"@id\": \"1b8d3b8f-bc99-4a05-888b-359784f76989\",\n",
      "    \"@type\": \"http://www.w3.org/ns/dcat#Catalog\",\n",
      "    \"http://www.w3.org/ns/dcat#catalog\": [],\n",
      "    \"http://www.w3.org/ns/dcat#distribution\": [],\n",
      "    \"http://www.w3.org/ns/dcat#service\": {\n",
      "      \"@id\": \"5484651a-4417-48b9-9bd3-83c86f1b9952\",\n",
      "      \"@type\": \"http://www.w3.org/ns/dcat#DataService\",\n",
      "      \"http://www.w3.org/ns/dcat#endpointDescription\": \"dspace:connector\",\n",
      "      \"http://www.w3.org/ns/dcat#endpointUrl\": \"https://conn-expert-language.ds.inesdata-project.eu/protocol\",\n",
      "      \"http://www.w3.org/ns/dcat#endpointURL\": \"https://conn-expert-language.ds.inesdata-project.eu/protocol\"\n",
      "    },\n",
      "    \"https://w3id.org/dspace/v0.8/participantId\": \"conn-expert\",\n",
      "    \"originator\": \"https://conn-expert-language.ds.inesdata-project.eu/protocol\",\n",
      "    \"http://www.w3.org/ns/dcat#dataset\": {\n",
      "      \"@id\": \"llama-2-7b-insurance-5-sft\",\n",
      "      \"@type\": \"http://www.w3.org/ns/dcat#Dataset\",\n",
      "      \"http://www.w3.org/ns/dcat#distribution\": [\n",
      "        {\n",
      "          \"@type\": \"http://www.w3.org/ns/dcat#Distribution\",\n",
      "          \"http://purl.org/dc/terms/format\": {\n",
      "            \"@id\": \"HttpData-PULL\"\n",
      "          },\n",
      "          \"http://www.w3.org/ns/dcat#accessService\": {\n",
      "            \"@id\": \"5484651a-4417-48b9-9bd3-83c86f1b9952\",\n",
      "            \"@type\": \"http://www.w3.org/ns/dcat#DataService\",\n",
      "            \"http://www.w3.org/ns/dcat#endpointDescription\": \"dspace:connector\",\n",
      "            \"http://www.w3.org/ns/dcat#endpointUrl\": \"https://conn-expert-language.ds.inesdata-project.eu/protocol\",\n",
      "            \"http://www.w3.org/ns/dcat#endpointURL\": \"https://conn-expert-language.ds.inesdata-project.eu/protocol\"\n",
      "          }\n",
      "        },\n",
      "        {\n",
      "          \"@type\": \"http://www.w3.org/ns/dcat#Distribution\",\n",
      "          \"http://purl.org/dc/terms/format\": {\n",
      "            \"@id\": \"HttpData-PUSH\"\n",
      "          },\n",
      "          \"http://www.w3.org/ns/dcat#accessService\": {\n",
      "            \"@id\": \"5484651a-4417-48b9-9bd3-83c86f1b9952\",\n",
      "            \"@type\": \"http://www.w3.org/ns/dcat#DataService\",\n",
      "            \"http://www.w3.org/ns/dcat#endpointDescription\": \"dspace:connector\",\n",
      "            \"http://www.w3.org/ns/dcat#endpointUrl\": \"https://conn-expert-language.ds.inesdata-project.eu/protocol\",\n",
      "            \"http://www.w3.org/ns/dcat#endpointURL\": \"https://conn-expert-language.ds.inesdata-project.eu/protocol\"\n",
      "          }\n",
      "        },\n",
      "        {\n",
      "          \"@type\": \"http://www.w3.org/ns/dcat#Distribution\",\n",
      "          \"http://purl.org/dc/terms/format\": {\n",
      "            \"@id\": \"AmazonS3-PUSH\"\n",
      "          },\n",
      "          \"http://www.w3.org/ns/dcat#accessService\": {\n",
      "            \"@id\": \"5484651a-4417-48b9-9bd3-83c86f1b9952\",\n",
      "            \"@type\": \"http://www.w3.org/ns/dcat#DataService\",\n",
      "            \"http://www.w3.org/ns/dcat#endpointDescription\": \"dspace:connector\",\n",
      "            \"http://www.w3.org/ns/dcat#endpointUrl\": \"https://conn-expert-language.ds.inesdata-project.eu/protocol\",\n",
      "            \"http://www.w3.org/ns/dcat#endpointURL\": \"https://conn-expert-language.ds.inesdata-project.eu/protocol\"\n",
      "          }\n",
      "        }\n",
      "      ],\n",
      "      \"assetType\": \"machineLearning\",\n",
      "      \"http://purl.org/dc/terms/format\": \"\",\n",
      "      \"version\": \"1.0\",\n",
      "      \"http://www.w3.org/ns/dcat#keyword\": \"LLM\",\n",
      "      \"http://www.w3.org/ns/dcat#byteSize\": \"\",\n",
      "      \"name\": \"llama-2-7b-insurance-5-sft\",\n",
      "      \"participantId\": \"conn-expert\",\n",
      "      \"assetData\": {},\n",
      "      \"http://purl.org/dc/terms/description\": \"<p>LoRA weights for Llama 2 7B trained with Supervised Fine-Tuning (SFT), with 5 samples per prompt.</p>\",\n",
      "      \"id\": \"llama-2-7b-insurance-5-sft\",\n",
      "      \"contenttype\": \"\",\n",
      "      \"shortDescription\": \"LoRA weights for Llama 2 7B trained with Supervised Fine-Tuning (SFT), with 5 samples per prompt.\",\n",
      "      \"odrl:hasPolicy\": {\n",
      "        \"complexPolicy\": {\n",
      "          \"contractOfferId\": \"TExNc19jb250cmFjdA==:bGxhbWEtMi03Yi1pbnN1cmFuY2UtNS1zZnQ=:YjQyODRhOTktOThmMi00MGE5LTgwZjEtYTY3MzBlZjIzODE3\",\n",
      "          \"policy\": {\n",
      "            \"policyJsonLd\": \"{\\\"@id\\\":\\\"44945024-4232-4bdb-85b6-ee61b7337bc1\\\",\\\"@type\\\":\\\"http://www.w3.org/ns/odrl/2/Set\\\",\\\"http://www.w3.org/ns/odrl/2/permission\\\":[{\\\"http://www.w3.org/ns/odrl/2/action\\\":{\\\"@id\\\":\\\"USE\\\"},\\\"http://www.w3.org/ns/odrl/2/constraint\\\":[{\\\"http://www.w3.org/ns/odrl/2/leftOperand\\\":[{\\\"@id\\\":\\\"ALWAYS_TRUE\\\"}],\\\"http://www.w3.org/ns/odrl/2/operator\\\":[{\\\"@id\\\":\\\"http://www.w3.org/ns/odrl/2/eq\\\"}],\\\"http://www.w3.org/ns/odrl/2/rightOperand\\\":{\\\"@value\\\":\\\"true\\\"}}]}],\\\"http://www.w3.org/ns/odrl/2/prohibition\\\":[],\\\"http://www.w3.org/ns/odrl/2/obligation\\\":[]}\",\n",
      "            \"expression\": {\n",
      "              \"type\": \"CONSTRAINT\",\n",
      "              \"constraint\": {\n",
      "                \"left\": \"ALWAYS_TRUE\",\n",
      "                \"operator\": \"EQ\",\n",
      "                \"right\": {\n",
      "                  \"type\": \"STRING\",\n",
      "                  \"value\": \"true\"\n",
      "                }\n",
      "              }\n",
      "            },\n",
      "            \"errors\": []\n",
      "          }\n",
      "        },\n",
      "        \"offer\": {\n",
      "          \"@id\": \"TExNc19jb250cmFjdA==:bGxhbWEtMi03Yi1pbnN1cmFuY2UtNS1zZnQ=:YjQyODRhOTktOThmMi00MGE5LTgwZjEtYTY3MzBlZjIzODE3\",\n",
      "          \"@type\": \"odrl:Offer\",\n",
      "          \"odrl:permission\": {\n",
      "            \"odrl:action\": {\n",
      "              \"@id\": \"USE\"\n",
      "            },\n",
      "            \"odrl:constraint\": {\n",
      "              \"odrl:leftOperand\": {\n",
      "                \"@id\": \"ALWAYS_TRUE\"\n",
      "              },\n",
      "              \"odrl:operator\": {\n",
      "                \"@id\": \"odrl:eq\"\n",
      "              },\n",
      "              \"odrl:rightOperand\": \"true\"\n",
      "            }\n",
      "          },\n",
      "          \"odrl:prohibition\": [],\n",
      "          \"odrl:obligation\": []\n",
      "        }\n",
      "      }\n",
      "    },\n",
      "    \"@context\": {\n",
      "      \"@vocab\": \"https://w3id.org/edc/v0.0.1/ns/\",\n",
      "      \"edc\": \"https://w3id.org/edc/v0.0.1/ns/\",\n",
      "      \"odrl\": \"http://www.w3.org/ns/odrl/2/\"\n",
      "    }\n",
      "  }\n",
      "]\n"
     ]
    }
   ],
   "source": [
    "url = \"https://conn-consumer-language.ds.inesdata-project.eu/management/federatedcatalog/request\"\n",
    "\n",
    "payload = json.dumps({\n",
    "  \"@context\": {\n",
    "    \"@vocab\": \"https://w3id.org/edc/v0.0.1/ns/\"\n",
    "  },\n",
    "  \"offset\": 0,\n",
    "  \"limit\": 100,\n",
    "  \"filterExpression\": [{\"operandLeft\":\"genericSearch\",\"operator\":\"=\",\"operandRight\":\"llama-2-7b-insurance-5-sft\"}]\n",
    "  \n",
    "})\n",
    "\n",
    "headers = {\n",
    "  'Authorization': f'Bearer {get_valid_token()}',\n",
    "  'Content-Type': 'application/json'\n",
    "}\n",
    "\n",
    "response = requests.request(\"POST\", url, headers=headers, data=payload)\n",
    "filtered_catalog = response.json()\n",
    "print(json.dumps(filtered_catalog,indent=2))"
   ]
  },
  {
   "cell_type": "markdown",
   "id": "8ca68301-2bb0-4591-86b8-eae017a36d69",
   "metadata": {},
   "source": [
    "We can see that the asset has a policy, let's negotiate the contract for this asset."
   ]
  },
  {
   "cell_type": "code",
   "execution_count": 8,
   "id": "12effee4-2c95-45f0-81b3-6afdc544e34b",
   "metadata": {
    "scrolled": true
   },
   "outputs": [
    {
     "name": "stdout",
     "output_type": "stream",
     "text": [
      "{\"@type\":\"IdResponse\",\"@id\":\"787d61e1-4b43-4ca9-beb3-0c2eba2c1b70\",\"createdAt\":1750844605140,\"@context\":{\"@vocab\":\"https://w3id.org/edc/v0.0.1/ns/\",\"edc\":\"https://w3id.org/edc/v0.0.1/ns/\",\"odrl\":\"http://www.w3.org/ns/odrl/2/\"}}\n"
     ]
    }
   ],
   "source": [
    "url = \"https://conn-consumer-language.ds.inesdata-project.eu/management/v3/contractnegotiations\"\n",
    "\n",
    "payload = json.dumps({\n",
    "  \"@context\": {\n",
    "    \"@vocab\": \"https://w3id.org/edc/v0.0.1/ns/\",\n",
    "    \"odrl\": \"http://www.w3.org/ns/odrl.jsonld\"\n",
    "  },\n",
    "  \"@type\": \"ContractRequest\",\n",
    "  \"counterPartyAddress\": filtered_catalog[0][\"http://www.w3.org/ns/dcat#dataset\"]['http://www.w3.org/ns/dcat#distribution'][0]['http://www.w3.org/ns/dcat#accessService']['http://www.w3.org/ns/dcat#endpointUrl'],\n",
    "  \"protocol\": \"dataspace-protocol-http\",\n",
    "  \"policy\": {\n",
    "      \"@context\": \"http://www.w3.org/ns/odrl.jsonld\",\n",
    "    **filtered_catalog[0][\"http://www.w3.org/ns/dcat#dataset\"]['odrl:hasPolicy']['offer'],\n",
    "    \"assigner\": filtered_catalog[0][\"http://www.w3.org/ns/dcat#dataset\"]['participantId'],\n",
    "    \"target\": filtered_catalog[0][\"http://www.w3.org/ns/dcat#dataset\"]['@id']\n",
    "  }\n",
    "})\n",
    "headers = {\n",
    "  'Authorization': f'Bearer {get_valid_token()}',\n",
    "  'Content-Type': 'application/json'\n",
    "}\n",
    "\n",
    "response = requests.request(\"POST\", url, headers=headers, data=payload)\n",
    "\n",
    "print(response.text)\n"
   ]
  },
  {
   "cell_type": "markdown",
   "id": "36113284-d474-4a6c-9b6e-af70c93c407e",
   "metadata": {},
   "source": [
    "We can check the contract negotiation status."
   ]
  },
  {
   "cell_type": "code",
   "execution_count": 9,
   "id": "308c8527-a76a-4a35-83a3-384d9a692712",
   "metadata": {},
   "outputs": [
    {
     "name": "stdout",
     "output_type": "stream",
     "text": [
      "{\"@type\":\"ContractNegotiation\",\"@id\":\"787d61e1-4b43-4ca9-beb3-0c2eba2c1b70\",\"type\":\"CONSUMER\",\"protocol\":\"dataspace-protocol-http\",\"state\":\"FINALIZED\",\"counterPartyId\":\"conn-expert\",\"counterPartyAddress\":\"https://conn-expert-language.ds.inesdata-project.eu/protocol\",\"callbackAddresses\":[],\"createdAt\":1750844605140,\"contractAgreementId\":\"248a2293-34ea-4f6a-8d29-98397c8aa367\",\"@context\":{\"@vocab\":\"https://w3id.org/edc/v0.0.1/ns/\",\"edc\":\"https://w3id.org/edc/v0.0.1/ns/\",\"odrl\":\"http://www.w3.org/ns/odrl/2/\"}}\n"
     ]
    }
   ],
   "source": [
    "url = f\"https://conn-consumer-language.ds.inesdata-project.eu/management/v3/contractnegotiations/{response.json()['@id']}\"\n",
    "\n",
    "payload = \"\"\n",
    "headers = {\n",
    "  'Authorization':  f'Bearer {get_valid_token()}'\n",
    "}\n",
    "\n",
    "response = requests.request(\"GET\", url, headers=headers, data=payload)\n",
    "\n",
    "print(response.text)\n"
   ]
  },
  {
   "cell_type": "markdown",
   "id": "49b9c073-d797-451b-91f6-049c6dce6f4a",
   "metadata": {},
   "source": [
    "We can now start the transfer."
   ]
  },
  {
   "cell_type": "code",
   "execution_count": 10,
   "id": "f4ff8739-fa10-43f8-910e-223ca770ea68",
   "metadata": {},
   "outputs": [
    {
     "name": "stdout",
     "output_type": "stream",
     "text": [
      "{\"@type\":\"IdResponse\",\"@id\":\"5b32fa23-cad7-47ce-ba5d-5c9268ffc4e5\",\"createdAt\":1750844829782,\"@context\":{\"@vocab\":\"https://w3id.org/edc/v0.0.1/ns/\",\"edc\":\"https://w3id.org/edc/v0.0.1/ns/\",\"odrl\":\"http://www.w3.org/ns/odrl/2/\"}}\n"
     ]
    }
   ],
   "source": [
    "url = \"https://conn-consumer-language.ds.inesdata-project.eu/management/v3/transferprocesses\"\n",
    "\n",
    "payload = json.dumps({\n",
    "  \"@context\": {\n",
    "    \"@vocab\": \"https://w3id.org/edc/v0.0.1/ns/\"\n",
    "  },\n",
    "  \"@type\": \"TransferRequestDto\",\n",
    "  \"connectorId\": \"conn-consumer-language\",\n",
    "  \"counterPartyAddress\": response.json()[\"counterPartyAddress\"],\n",
    "  \"contractId\":response.json()[\"contractAgreementId\"],\n",
    "  \"assetId\": filtered_catalog[0][\"http://www.w3.org/ns/dcat#dataset\"]['@id'],\n",
    "  \"protocol\": \"dataspace-protocol-http\",\n",
    "  \"transferType\": \"HttpData-PULL\"\n",
    "})\n",
    "headers = {\n",
    "  'Authorization': f'Bearer {get_valid_token()}',\n",
    "  'Content-Type': 'application/json'\n",
    "}\n",
    "\n",
    "response = requests.request(\"POST\", url, headers=headers, data=payload)\n",
    "\n",
    "print(response.text)\n",
    "\n",
    "transferId = response.json()['@id']\n"
   ]
  },
  {
   "cell_type": "markdown",
   "id": "e8d77248-7f09-46da-ad16-7a8ed8182f7b",
   "metadata": {},
   "source": [
    "Let's check the transfer status."
   ]
  },
  {
   "cell_type": "code",
   "execution_count": 11,
   "id": "a32650e6-562c-4878-8b99-bc91b0cacb3c",
   "metadata": {
    "scrolled": true
   },
   "outputs": [
    {
     "name": "stdout",
     "output_type": "stream",
     "text": [
      "{\"@id\":\"5b32fa23-cad7-47ce-ba5d-5c9268ffc4e5\",\"@type\":\"TransferProcess\",\"state\":\"STARTED\",\"stateTimestamp\":1750844832329,\"type\":\"CONSUMER\",\"callbackAddresses\":[],\"correlationId\":\"b374c40d-2a82-4907-aed8-629e83096365\",\"assetId\":\"llama-2-7b-insurance-5-sft\",\"contractId\":\"248a2293-34ea-4f6a-8d29-98397c8aa367\",\"transferType\":\"HttpData-PULL\",\"@context\":{\"@vocab\":\"https://w3id.org/edc/v0.0.1/ns/\",\"edc\":\"https://w3id.org/edc/v0.0.1/ns/\",\"odrl\":\"http://www.w3.org/ns/odrl/2/\"}}\n"
     ]
    }
   ],
   "source": [
    "url = f\"https://conn-consumer-language.ds.inesdata-project.eu/management/v3/transferprocesses/{transferId}\"\n",
    "\n",
    "payload = \"\"\n",
    "headers = {\n",
    "  'Authorization':  f'Bearer {get_valid_token()}'\n",
    "}\n",
    "\n",
    "response = requests.request(\"GET\", url, headers=headers, data=payload)\n",
    "\n",
    "print(response.text)\n"
   ]
  },
  {
   "cell_type": "markdown",
   "id": "3a365844-8191-4be1-906c-2f195807f4f5",
   "metadata": {},
   "source": [
    "We see that the transfer process has started. We can get the transfer endpoint."
   ]
  },
  {
   "cell_type": "code",
   "execution_count": null,
   "id": "ce0fb411-1442-4996-bbef-61c6f8104d22",
   "metadata": {
    "scrolled": true
   },
   "outputs": [],
   "source": [
    "url = f\"https://conn-consumer-language.ds.inesdata-project.eu/management/v3/edrs/{transferId}/dataaddress\"\n",
    "\n",
    "payload = \"\"\n",
    "headers = {\n",
    "  'Authorization': f'Bearer {get_valid_token()}'\n",
    "}\n",
    "\n",
    "response = requests.request(\"GET\", url, headers=headers)\n",
    "\n",
    "print(response.text)\n"
   ]
  },
  {
   "cell_type": "markdown",
   "id": "a09415d3-365f-4beb-992e-f7c49c73d9a6",
   "metadata": {},
   "source": [
    "Now we have everything to download the asset, the endpoint and the authorization token. We download it as a zip file."
   ]
  },
  {
   "cell_type": "code",
   "execution_count": 14,
   "id": "08efc634-0f9d-4597-b694-d09f1c22bd4c",
   "metadata": {},
   "outputs": [],
   "source": [
    "url = response.json()[\"endpoint\"]\n",
    "\n",
    "payload = \"\"\n",
    "headers = {\n",
    "  'Authorization': response.json()[\"authorization\"]\n",
    "}\n",
    "\n",
    "r = requests.request(\"GET\", url, headers=headers, data=payload, stream=True)\n",
    "\n",
    "with open(\"download.zip\", 'wb') as fd:\n",
    "    for chunk in r.iter_content(chunk_size=1024):\n",
    "        fd.write(chunk)\n"
   ]
  },
  {
   "cell_type": "markdown",
   "id": "5281aa40-05ae-4c7d-90ac-e1396d77fc78",
   "metadata": {},
   "source": [
    "Once downloaded, the file can be extracted and the model can be used."
   ]
  },
  {
   "cell_type": "code",
   "execution_count": 131,
   "id": "fb872ec4-dc2f-4f4d-80dd-767c01c83364",
   "metadata": {},
   "outputs": [
    {
     "name": "stdout",
     "output_type": "stream",
     "text": [
      "Archive:  download.zip\n",
      "   creating: llama-2-7b-insurance-5-sft/\n",
      "  inflating: llama-2-7b-insurance-5-sft/adapter_model.safetensors  \n",
      "  inflating: llama-2-7b-insurance-5-sft/tokenizer.json  \n",
      "  inflating: llama-2-7b-insurance-5-sft/adapter_config.json  \n",
      "  inflating: llama-2-7b-insurance-5-sft/training_args.bin  \n",
      "  inflating: llama-2-7b-insurance-5-sft/README.md  \n",
      "  inflating: llama-2-7b-insurance-5-sft/tokenizer_config.json  \n",
      "  inflating: llama-2-7b-insurance-5-sft/special_tokens_map.json  \n"
     ]
    }
   ],
   "source": [
    "!unzip download.zip"
   ]
  }
 ],
 "metadata": {
  "kernelspec": {
   "display_name": "Python 3 (ipykernel)",
   "language": "python",
   "name": "python3"
  },
  "language_info": {
   "codemirror_mode": {
    "name": "ipython",
    "version": 3
   },
   "file_extension": ".py",
   "mimetype": "text/x-python",
   "name": "python",
   "nbconvert_exporter": "python",
   "pygments_lexer": "ipython3",
   "version": "3.9.12"
  }
 },
 "nbformat": 4,
 "nbformat_minor": 5
}
